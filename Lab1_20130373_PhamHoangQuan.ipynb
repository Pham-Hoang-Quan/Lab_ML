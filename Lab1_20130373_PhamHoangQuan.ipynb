{
  "nbformat": 4,
  "nbformat_minor": 0,
  "metadata": {
    "colab": {
      "provenance": [],
      "authorship_tag": "ABX9TyNlnEhKMKy/agog07DkW9fh",
      "include_colab_link": true
    },
    "kernelspec": {
      "name": "python3",
      "display_name": "Python 3"
    },
    "language_info": {
      "name": "python"
    }
  },
  "cells": [
    {
      "cell_type": "markdown",
      "metadata": {
        "id": "view-in-github",
        "colab_type": "text"
      },
      "source": [
        "<a href=\"https://colab.research.google.com/github/Pham-Hoang-Quan/Lab_ML/blob/main/Lab1_20130373_PhamHoangQuan.ipynb\" target=\"_parent\"><img src=\"https://colab.research.google.com/assets/colab-badge.svg\" alt=\"Open In Colab\"/></a>"
      ]
    },
    {
      "cell_type": "markdown",
      "source": [
        "Task 1.1"
      ],
      "metadata": {
        "id": "6cr22MJgpVW_"
      }
    },
    {
      "cell_type": "code",
      "execution_count": null,
      "metadata": {
        "colab": {
          "base_uri": "https://localhost:8080/"
        },
        "id": "xaNoFPHnarSH",
        "outputId": "880e2bf2-f56e-47dc-fc5e-ddce990646e0"
      },
      "outputs": [
        {
          "output_type": "stream",
          "name": "stdout",
          "text": [
            "Enter n : 3\n",
            "enter ni: 12\n",
            "enter ni: 6\n",
            "enter ni: 2\n",
            "L's elements [12, 6, 2]\n",
            "Max:  12\n",
            "Min:  2\n",
            "Sum:  20\n",
            "Sorted list (ascending order): [2, 6, 12]\n",
            "Positive numbers:  3\n",
            "Negative numbers:  0\n"
          ]
        }
      ],
      "source": [
        "def task1():\n",
        "  n = int(input(\"Enter n : \"))\n",
        "  L = []\n",
        "  for i in range(n):\n",
        "    L.append(int(input(\"enter ni: \")))\n",
        "  print(\"L's elements\",L)\n",
        "\n",
        "\n",
        "  max = L[0]\n",
        "  for n in L:\n",
        "    if n > max:\n",
        "      max = n\n",
        "  print(\"Max: \", max)\n",
        "\n",
        "  min = L[0]\n",
        "  for n in L:\n",
        "    if n < min:\n",
        "      min = n\n",
        "  print(\"Min: \", min)\n",
        "\n",
        "  sum = 0\n",
        "  for n in L:\n",
        "    sum += n\n",
        "  print(\"Sum: \", sum)\n",
        "\n",
        "  L.sort()\n",
        "  print(\"Sorted list (ascending order):\", L)\n",
        "\n",
        "  pos = 0\n",
        "  neg = 0\n",
        "  for x in L:\n",
        "    if x > 0:\n",
        "      pos += 1\n",
        "    elif x < 0:\n",
        "      neg += 1\n",
        "  print(\"Positive numbers: \", pos)\n",
        "  print(\"Negative numbers: \", neg)\n",
        "\n",
        "\n",
        "\n",
        "task1()\n",
        "\n",
        "\n"
      ]
    },
    {
      "cell_type": "markdown",
      "source": [
        "Task 1.2"
      ],
      "metadata": {
        "id": "2b1t8if9508g"
      }
    },
    {
      "cell_type": "code",
      "source": [
        "def task1_2(n):\n",
        "  sum = 0\n",
        "  if n > 0:\n",
        "    for x in range(n):\n",
        "      for y in range(n):\n",
        "        sum += x*y\n",
        "\n",
        "  return sum\n",
        "\n",
        "print(task1_2(5))\n",
        "\n"
      ],
      "metadata": {
        "colab": {
          "base_uri": "https://localhost:8080/"
        },
        "id": "EpXuFQJ053gq",
        "outputId": "3ce75585-838d-465c-a980-dd57fc3466d3"
      },
      "execution_count": null,
      "outputs": [
        {
          "output_type": "stream",
          "name": "stdout",
          "text": [
            "100\n"
          ]
        }
      ]
    },
    {
      "cell_type": "markdown",
      "source": [
        "Task 1.3"
      ],
      "metadata": {
        "id": "iPQQCkSWs14A"
      }
    },
    {
      "cell_type": "code",
      "source": [
        "class Account:\n",
        "  def __init__(self, name, email, country):\n",
        "    self.__name = name\n",
        "    self.__email = email\n",
        "    self.__country = country\n",
        "    self.friends = list()\n",
        "    self.posts = list()\n",
        "\n",
        "  def count_posts(self):\n",
        "    return len(self.posts)\n",
        "\n",
        "  def add_post(self, post):\n",
        "    self.posts.append(post)\n",
        "\n",
        "  def add_friend(self, account):\n",
        "    self.friends.append(account)\n",
        "\n",
        "  def getMaxLikePostByFriend(self):\n",
        "    max_like = 0\n",
        "    max_acc = None\n",
        "    for acc in self.friends:\n",
        "      for post in acc.posts:\n",
        "        if post.get_likes() > max_like:\n",
        "          max_like = post.get_likes()\n",
        "          max_acc = acc\n",
        "    return max_acc.get_name()\n",
        "\n",
        "  def get_name(self):\n",
        "        return self.__name\n",
        "\n",
        "  def get_country(self):\n",
        "        return self.__country\n",
        "\n",
        "  def get_info(self):\n",
        "    return self.__name, self.__email, self.__country\n",
        "\n",
        "class Post:\n",
        "  def __init__(self, content, subject, likes):\n",
        "    self.__content = content\n",
        "    self.__subject = subject\n",
        "    self.__likes = likes\n",
        "\n",
        "  def get_likes(self):\n",
        "    return self.__likes\n",
        "\n",
        "  def get_info(self):\n",
        "    return self.__content, self.__subject, self.__likes\n",
        "\n",
        "\n",
        "class AccountManager:\n",
        "  def __init__(self):\n",
        "    self.__accounts = list()\n",
        "\n",
        "  def add_Account(self, acc):\n",
        "    self.__accounts.append(acc)\n",
        "\n",
        "\n",
        "  def groupAccountsByPostLike(self):\n",
        "    group_acc = dict()\n",
        "    for acc in self.__accounts:\n",
        "      if len(acc.posts) < 10:\n",
        "        group_acc[acc.get_name()] = False\n",
        "      else:\n",
        "        group_acc[acc.get_name()] = True\n",
        "    return group_acc\n",
        "\n",
        "  def filterAccount(self, country):\n",
        "    accs = list()\n",
        "    for acc in self.__accounts:\n",
        "      if acc.get_country() == country:\n",
        "        accs.append(acc)\n",
        "    sorted_accs = sorted(accs, key=lambda acc: (acc.count_posts(), acc.get_name()))\n",
        "    return sorted_accs\n",
        "\n",
        "class VerifiedAccount(Account):\n",
        "    def __init__(self, name, email, country, fromdate):\n",
        "        super().__init__(name, email, country)\n",
        "        self.fromdate = fromdate\n",
        "\n",
        "class NormalProduct(Account):\n",
        "    def __init__(self, name, email, country, ):\n",
        "        super().__init__(name, email, country)\n",
        "\n",
        "\n",
        "# test\n",
        "\n",
        "acc_quan = Account(\"Quân\", \"quan@gmail.com\", \"VietNam\")\n",
        "acc_tien = Account(\"Tiên\", \"tien@gmail.com\", \"VietNam\")\n",
        "acc_nhu = Account(\"Như\", \"nhu@gmail.com\", \"VietNam\")\n",
        "\n",
        "acc_ver1 = VerifiedAccount(\"Quân\", \"quan@gmail.com\", \"VietNam\", \"123\")\n",
        "\n",
        "post1 = Post(\"post1\", \"ok\", 6)\n",
        "post2 = Post(\"post2\", \"ok\", 9)\n",
        "post3 = Post(\"post3\", \"ok\", 10)\n",
        "post4 = Post(\"post3\", \"ok\", 20)\n",
        "\n",
        "acc_tien.add_post(post1)\n",
        "acc_tien.add_post(post2)\n",
        "acc_nhu.add_post(post3)\n",
        "acc_tien.add_post(post4)\n",
        "\n",
        "\n",
        "acc_quan.add_friend(acc_tien)\n",
        "acc_quan.add_friend(acc_nhu)\n",
        "acc_tien.add_friend(acc_nhu)\n",
        "\n",
        "acc_manager = AccountManager()\n",
        "acc_manager.add_Account(acc_tien)\n",
        "acc_manager.add_Account(acc_quan)\n",
        "acc_manager.add_Account(acc_nhu)\n",
        "\n",
        "print(acc_quan.getMaxLikePostByFriend())\n",
        "print(acc_manager.groupAccountsByPostLike())\n",
        "print([acc.get_name() for acc in acc_manager.filterAccount(\"VietNam\")])\n",
        "\n",
        "\n",
        "\n",
        "\n"
      ],
      "metadata": {
        "id": "UFPR9qdss4dr",
        "colab": {
          "base_uri": "https://localhost:8080/"
        },
        "outputId": "3437b103-cdbb-4db4-9f6d-e5562c4c1248"
      },
      "execution_count": null,
      "outputs": [
        {
          "output_type": "stream",
          "name": "stdout",
          "text": [
            "Tiên\n",
            "{'Tiên': False, 'Quân': False, 'Như': False}\n",
            "['Quân', 'Như', 'Tiên']\n"
          ]
        }
      ]
    },
    {
      "cell_type": "markdown",
      "source": [
        "Task 2.1"
      ],
      "metadata": {
        "id": "dbuLxDLW-aqa"
      }
    },
    {
      "cell_type": "code",
      "source": [
        "import numpy as np\n",
        "\n",
        "arr = np.array(range(10, 26))\n",
        "\n",
        "reversed_arr = arr[::-1]\n",
        "\n",
        "print(reversed_arr)"
      ],
      "metadata": {
        "colab": {
          "base_uri": "https://localhost:8080/"
        },
        "id": "pryYAwdH-dN_",
        "outputId": "647fa43a-b458-4c95-e08b-cc947da3f307"
      },
      "execution_count": null,
      "outputs": [
        {
          "output_type": "stream",
          "name": "stdout",
          "text": [
            "[25 24 23 22 21 20 19 18 17 16 15 14 13 12 11 10]\n"
          ]
        }
      ]
    },
    {
      "cell_type": "markdown",
      "source": [
        "Task 2.2"
      ],
      "metadata": {
        "id": "FfGLIHj4_YMu"
      }
    },
    {
      "cell_type": "code",
      "source": [
        "import numpy as np\n",
        "\n",
        "def repeat_array(arr):\n",
        "  print(\"Original array: \", arr)\n",
        "  re = np.array(arr)\n",
        "  for x in range(2):\n",
        "    for a in arr:\n",
        "      re = np.append(re, a)\n",
        "    print(\"Repeating \", x + 2 , \" times: \", re)\n",
        "repeat_array([1, 2, 3, 4])\n"
      ],
      "metadata": {
        "colab": {
          "base_uri": "https://localhost:8080/"
        },
        "id": "CbdI6TXn_aMn",
        "outputId": "3d02c4a9-d493-4279-b585-b8335e08fc87"
      },
      "execution_count": null,
      "outputs": [
        {
          "output_type": "stream",
          "name": "stdout",
          "text": [
            "Original array:  [1, 2, 3, 4]\n",
            "Repeating  2  times:  [1 2 3 4 1 2 3 4]\n",
            "Repeating  3  times:  [1 2 3 4 1 2 3 4 1 2 3 4]\n"
          ]
        }
      ]
    },
    {
      "cell_type": "markdown",
      "source": [
        "Task 2.3"
      ],
      "metadata": {
        "id": "OALng1WUDLYA"
      }
    },
    {
      "cell_type": "code",
      "source": [
        "import numpy as np\n",
        "\n",
        "\n",
        "def replace(arr):\n",
        "  arr[arr > 0.5] = 0.5\n",
        "  return arr\n",
        "\n",
        "# test\n",
        "arr = np.array([[0.42, 0.48, 0.32], [0.74, 0.58, 0.38], [0.51, 0.34, 0.15]])\n",
        "print(replace(arr))\n",
        "\n"
      ],
      "metadata": {
        "colab": {
          "base_uri": "https://localhost:8080/"
        },
        "id": "elGOJpzLDbb_",
        "outputId": "4feeda01-e192-47ba-84c5-989bd8971fff"
      },
      "execution_count": null,
      "outputs": [
        {
          "output_type": "stream",
          "name": "stdout",
          "text": [
            "[[0.42 0.48 0.32]\n",
            " [0.5  0.5  0.38]\n",
            " [0.5  0.34 0.15]]\n",
            "[[0.42 0.48 0.32]\n",
            " [0.5  0.5  0.38]\n",
            " [0.5  0.34 0.15]]\n"
          ]
        }
      ]
    }
  ]
}